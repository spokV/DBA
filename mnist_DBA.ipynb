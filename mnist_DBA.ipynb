{
 "cells": [
  {
   "cell_type": "code",
   "execution_count": 1,
   "metadata": {},
   "outputs": [],
   "source": [
    "import numpy as np\n",
    "import torch\n",
    "import adversary.cw as cw\n",
    "from adversary.jsma import SaliencyMapMethod\n",
    "from adversary.fgsm import Attack\n",
    "import torchvision\n",
    "import torch.nn.functional as F\n",
    "import torch.utils.data as Data\n",
    "from models.mnist_model import MnistModel, MLP\n",
    "from torchvision import transforms\n",
    "import mnist_undercover_train\n",
    "\n",
    "%reload_ext autoreload\n",
    "%autoreload 2"
   ]
  },
  {
   "cell_type": "code",
   "execution_count": 7,
   "metadata": {},
   "outputs": [],
   "source": [
    "train_eps = 0.15\n",
    "classifier_train_epochs = 30\n",
    "train_classifier = True"
   ]
  },
  {
   "cell_type": "code",
   "execution_count": 8,
   "metadata": {},
   "outputs": [
    {
     "output_type": "execute_result",
     "data": {
      "text/plain": [
       "'cuda'"
      ]
     },
     "metadata": {},
     "execution_count": 8
    }
   ],
   "source": [
    "MNIST_UNDERCOVER_CKPT = './checkpoint/mnist_undercover.pth'\n",
    "device = 'cuda' if torch.cuda.is_available() else 'cpu'\n",
    "device"
   ]
  },
  {
   "cell_type": "code",
   "execution_count": 9,
   "metadata": {},
   "outputs": [
    {
     "output_type": "stream",
     "name": "stdout",
     "text": [
      "==> Preparing data..\n",
      "==> Building model..\n",
      "epoch: 0, train loss: 777.35, train acc: 0.5285\n",
      "epoch: 1, train loss: 345.98, train acc: 0.8427\n",
      "epoch: 2, train loss: 246.70, train acc: 0.9024\n",
      "epoch: 3, train loss: 192.03, train acc: 0.9334\n",
      "epoch: 4, train loss: 159.94, train acc: 0.9478\n",
      "epoch: 5, train loss: 138.84, train acc: 0.9566\n",
      "epoch: 6, train loss: 122.79, train acc: 0.9632\n",
      "epoch: 7, train loss: 111.13, train acc: 0.9675\n",
      "epoch: 8, train loss: 102.59, train acc: 0.9703\n",
      "epoch: 9, train loss: 95.31, train acc: 0.9732\n",
      "epoch: 10, train loss: 89.57, train acc: 0.9754\n",
      "epoch: 11, train loss: 84.00, train acc: 0.9776\n",
      "epoch: 12, train loss: 80.24, train acc: 0.9786\n",
      "epoch: 13, train loss: 76.82, train acc: 0.9801\n",
      "epoch: 14, train loss: 73.96, train acc: 0.9813\n",
      "epoch: 15, train loss: 71.10, train acc: 0.9826\n",
      "epoch: 16, train loss: 68.54, train acc: 0.9832\n",
      "epoch: 17, train loss: 65.89, train acc: 0.9842\n",
      "epoch: 18, train loss: 63.39, train acc: 0.9851\n",
      "epoch: 19, train loss: 62.17, train acc: 0.9854\n",
      "epoch: 20, train loss: 60.36, train acc: 0.9858\n",
      "epoch: 21, train loss: 58.60, train acc: 0.9869\n",
      "epoch: 22, train loss: 57.82, train acc: 0.9871\n",
      "epoch: 23, train loss: 56.18, train acc: 0.9879\n",
      "epoch: 24, train loss: 55.66, train acc: 0.9883\n",
      "epoch: 25, train loss: 54.27, train acc: 0.9885\n",
      "epoch: 26, train loss: 52.89, train acc: 0.9886\n",
      "epoch: 27, train loss: 51.83, train acc: 0.9892\n",
      "epoch: 28, train loss: 50.67, train acc: 0.9894\n",
      "epoch: 29, train loss: 49.53, train acc: 0.9901\n"
     ]
    }
   ],
   "source": [
    "if train_classifier == True:\n",
    "    mnist_undercover_train.train(classifier_train_epochs, train_eps, device)"
   ]
  },
  {
   "cell_type": "code",
   "execution_count": 10,
   "metadata": {},
   "outputs": [
    {
     "output_type": "execute_result",
     "data": {
      "text/plain": [
       "<All keys matched successfully>"
      ]
     },
     "metadata": {},
     "execution_count": 10
    }
   ],
   "source": [
    "transform_test = transforms.Compose([\n",
    "    transforms.ToTensor(),\n",
    "])\n",
    "\n",
    "mlp = MLP().to(device)\n",
    "criterion = torch.nn.CrossEntropyLoss()\n",
    "optimizer = torch.optim.SGD(mlp.parameters(), lr=1e-3, momentum=0.9, weight_decay=5e-4)\n",
    "\n",
    "\n",
    "undercoverNet = MnistModel().to(device)\n",
    "checkpoint = torch.load(MNIST_UNDERCOVER_CKPT, map_location=torch.device(device))\n",
    "undercoverNet.load_state_dict(checkpoint['net'])"
   ]
  },
  {
   "cell_type": "code",
   "execution_count": 11,
   "metadata": {},
   "outputs": [],
   "source": [
    "trainset = torchvision.datasets.MNIST(root='./data', train=True, download=True, transform=transform_test)\n",
    "trainloader = torch.utils.data.DataLoader(trainset, batch_size=512, shuffle=True, num_workers=4)\n",
    "trainiter = iter(trainloader)\n",
    "\n",
    "testset = torchvision.datasets.MNIST(root='./data', train=False, download=True, transform=transform_test)\n",
    "testloader = torch.utils.data.DataLoader(testset, batch_size=512, shuffle=False, num_workers=4)\n",
    "testiter = iter(testloader)"
   ]
  },
  {
   "cell_type": "markdown",
   "metadata": {},
   "source": [
    "# Use BIM attack"
   ]
  },
  {
   "cell_type": "code",
   "execution_count": 31,
   "metadata": {},
   "outputs": [],
   "source": [
    "eval_eps = 0.08"
   ]
  },
  {
   "cell_type": "code",
   "execution_count": 32,
   "metadata": {},
   "outputs": [],
   "source": [
    "undercover_gradient_attacker = Attack(undercoverNet, F.cross_entropy)"
   ]
  },
  {
   "cell_type": "code",
   "execution_count": 28,
   "metadata": {},
   "outputs": [],
   "source": [
    "# construct bim adversarial samples\n",
    "# --------------------train---------------------\n",
    "normal_samples, adversarial_samples = [], []\n",
    "for x, y in trainloader:\n",
    "    x, y = x.to(device), y.to(device)\n",
    "    y_pred = undercoverNet(x).argmax(dim=1)\n",
    "    \n",
    "    #eps = 0.3\n",
    "    x_adv = undercover_gradient_attacker.i_fgsm(x, y, eps=eval_eps, alpha=1/255, iteration=int(min(eval_eps*255 + 4, 1.25*eval_eps*255)))\n",
    "    y_pred_adv = undercoverNet(x_adv).argmax(dim=1)\n",
    "    selected = (y == y_pred) & (y != y_pred_adv)\n",
    "    normal_samples.append(x[selected].detach().cpu())\n",
    "    adversarial_samples.append(x_adv[selected].detach().cpu())\n",
    "#     break\n",
    "\n",
    "normal_x = torch.cat(normal_samples, dim=0)\n",
    "adversarial_x = torch.cat(adversarial_samples, dim=0)\n",
    "normal_y = torch.zeros(normal_x.shape[0]).long()\n",
    "adversarial_y = torch.ones(adversarial_x.shape[0]).long()\n",
    "\n",
    "dba_trainloader = Data.DataLoader(Data.TensorDataset(torch.cat([normal_x, adversarial_x], dim=0),\n",
    "                                           torch.cat([normal_y, adversarial_y], dim=0)), \n",
    "                                  batch_size=512, shuffle=True, num_workers=4)\n",
    "dba_trainiter = iter(dba_trainloader)\n",
    "\n",
    "# ----------------test---------------------\n",
    "normal_samples, adversarial_samples = [], []\n",
    "for x, y in testloader:\n",
    "    x, y = x.to(device), y.to(device)\n",
    "    y_pred = undercoverNet(x).argmax(dim=1)\n",
    "    \n",
    "    #eps = 0.3\n",
    "    x_adv = undercover_gradient_attacker.i_fgsm(x, y, eps=eval_eps, alpha=1/255, iteration=int(min(eval_eps*255 + 4, 1.25*eval_eps*255)))\n",
    "    y_pred_adv = undercoverNet(x_adv).argmax(dim=1)\n",
    "    selected = (y == y_pred) & (y != y_pred_adv)\n",
    "    normal_samples.append(x[selected].detach().cpu())\n",
    "    adversarial_samples.append(x_adv[selected].detach().cpu())\n",
    "#     break\n",
    "\n",
    "normal_x = torch.cat(normal_samples, dim=0)\n",
    "adversarial_x = torch.cat(adversarial_samples, dim=0)\n",
    "normal_y = torch.zeros(normal_x.shape[0]).long()\n",
    "adversarial_y = torch.ones(adversarial_x.shape[0]).long()\n",
    "\n",
    "dba_testloader = Data.DataLoader(Data.TensorDataset(torch.cat([normal_x, adversarial_x], dim=0),\n",
    "                                           torch.cat([normal_y, adversarial_y], dim=0)), \n",
    "                                  batch_size=1024, shuffle=True, num_workers=4)\n",
    "dba_testiter = iter(dba_testloader)"
   ]
  },
  {
   "cell_type": "code",
   "execution_count": 29,
   "metadata": {},
   "outputs": [
    {
     "output_type": "stream",
     "name": "stdout",
     "text": [
      "epoch: 0, train loss: 30.56, train acc: 0.5416\n",
      "epoch: 1, train loss: 8.94, train acc: 0.5561\n",
      "epoch: 2, train loss: 5.02, train acc: 0.5615\n",
      "epoch: 3, train loss: 4.41, train acc: 0.5202\n",
      "epoch: 4, train loss: 4.08, train acc: 0.5867\n",
      "epoch: 5, train loss: 4.10, train acc: 0.5680\n",
      "epoch: 6, train loss: 4.09, train acc: 0.5623\n",
      "epoch: 7, train loss: 4.08, train acc: 0.6050\n",
      "epoch: 8, train loss: 4.05, train acc: 0.6402\n",
      "epoch: 9, train loss: 4.02, train acc: 0.6345\n"
     ]
    }
   ],
   "source": [
    "# train the mlp\n",
    "epochs = 10\n",
    "for i in range(epochs):\n",
    "    train_loss = 0\n",
    "    correct, total = 0, 0\n",
    "    for x, y in dba_trainloader:\n",
    "        optimizer.zero_grad()\n",
    "        x, y = x.to(device), y.to(device)\n",
    "        _, V1 = undercoverNet(x, dba=True)\n",
    "        undercover_adv = undercover_gradient_attacker.fgsm(x, y, False, eval_eps)#1/255)\n",
    "        _, V2 = undercoverNet(undercover_adv, dba=True)\n",
    "        V = torch.cat([V1, V2, V1 - V2, V1 * V2], axis=-1)\n",
    "        y_pred = mlp(V)\n",
    "        total += y.size(0)\n",
    "        correct += y_pred.argmax(dim=1).eq(y).sum().item()\n",
    "        \n",
    "        loss = criterion(y_pred, y)\n",
    "        train_loss += loss.item()\n",
    "        #print('epoch: %d, train loss: %.2f, train acc: %.4f' % (epoch, train_loss, acc))\n",
    "        loss.backward()\n",
    "        optimizer.step()\n",
    "    acc = 1.0 * correct / total\n",
    "    print('epoch: %d, train loss: %.2f, train acc: %.4f' % (i, train_loss, acc))\n",
    "    #print('epoch: %d, train loss: %.2f' % (i, train_loss))"
   ]
  },
  {
   "cell_type": "code",
   "execution_count": 30,
   "metadata": {},
   "outputs": [
    {
     "output_type": "stream",
     "name": "stdout",
     "text": [
      "TP= 106 FP= 43 TN= 204 FN= 141\nPrecision= 0.7114093959731543\nRecall= 0.4291497975708502\nF1= 0.5353535353535354\nAccuracy= 0.6275303643724697\n"
     ]
    }
   ],
   "source": [
    "# test\n",
    "total, correct = 0, 0\n",
    "FP, TP, FN, TN = 0, 0, 0, 0 \n",
    "for x, y in dba_testloader:\n",
    "    x, y = x.to(device), y.to(device)\n",
    "    _, V1 = undercoverNet(x, dba=True)\n",
    "    undercover_adv = undercover_gradient_attacker.fgsm(x, y, False, eval_eps)\n",
    "    _, V2 = undercoverNet(undercover_adv, dba=True)\n",
    "    V = torch.cat([V1, V2, V1 - V2, V1 * V2], axis=-1)\n",
    "    y_pred = mlp(V).argmax(dim=1)\n",
    "    \n",
    "    total += y.size(0)\n",
    "    #print(y_pred)\n",
    "    confusion_vector = y_pred / y\n",
    "    TP += torch.sum(confusion_vector == 1).item()\n",
    "    FP += torch.sum(confusion_vector == float('inf')).item()\n",
    "    TN += torch.sum(torch.isnan(confusion_vector)).item()\n",
    "    FN += torch.sum(confusion_vector == 0).item()\n",
    "    correct += y_pred.eq(y).sum().item()\n",
    "    #break\n",
    "print('TP=', TP, 'FP=', FP, 'TN=', TN, 'FN=', FN)\n",
    "#print(correct / total)\n",
    "Prec = TP/(TP+FP)\n",
    "Recall =  TP/(TP+FN)\n",
    "print('Precision=', Prec)\n",
    "print('Recall=', Recall)\n",
    "print('F1=', 2*Recall*Prec/(Recall + Prec))\n",
    "print('Accuracy=', (TP+TN)/(TP+TN+FP+FN))"
   ]
  },
  {
   "cell_type": "code",
   "execution_count": null,
   "metadata": {},
   "outputs": [],
   "source": []
  }
 ],
 "metadata": {
  "kernelspec": {
   "display_name": "ml-env",
   "language": "python",
   "name": "ml-env"
  },
  "language_info": {
   "codemirror_mode": {
    "name": "ipython",
    "version": 3
   },
   "file_extension": ".py",
   "mimetype": "text/x-python",
   "name": "python",
   "nbconvert_exporter": "python",
   "pygments_lexer": "ipython3",
   "version": "3.7.5-final"
  }
 },
 "nbformat": 4,
 "nbformat_minor": 2
}